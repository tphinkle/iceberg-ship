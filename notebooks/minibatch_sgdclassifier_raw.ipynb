{
 "cells": [
  {
   "cell_type": "markdown",
   "metadata": {},
   "source": [
    "## Imports"
   ]
  },
  {
   "cell_type": "code",
   "execution_count": 2,
   "metadata": {
    "collapsed": true
   },
   "outputs": [],
   "source": [
    "# Python standard library\n",
    "import csv\n",
    "import json\n",
    "import datetime\n",
    "import time\n",
    "import sys\n",
    "\n",
    "# Scipy\n",
    "import numpy as np\n",
    "import sklearn.linear_model\n",
    "import sklearn.model_selection\n",
    "import sklearn.utils\n",
    "import pandas as pd\n",
    "\n",
    "import matplotlib.pyplot as plt\n",
    "\n",
    "# Jupyter\n",
    "import IPython.display\n",
    "\n",
    "# Program-specific\n",
    "sys.path.append('../modules')\n",
    "import constants\n",
    "import functions"
   ]
  },
  {
   "cell_type": "markdown",
   "metadata": {},
   "source": [
    "## Get number of rows in data"
   ]
  },
  {
   "cell_type": "code",
   "execution_count": 8,
   "metadata": {},
   "outputs": [
    {
     "name": "stderr",
     "output_type": "stream",
     "text": [
      "/home/prestonh/anaconda3/envs/py36/lib/python3.6/site-packages/IPython/core/interactiveshell.py:2821: DtypeWarning: Columns (2) have mixed types. Specify dtype option on import or set low_memory=False.\n",
      "  if self.run_code(code, result):\n"
     ]
    }
   ],
   "source": [
    "df_train = functions.LoadTrainData(aug = False, mix = True)\n",
    "N_train_all = len(train_df)"
   ]
  },
  {
   "cell_type": "code",
   "execution_count": 9,
   "metadata": {},
   "outputs": [],
   "source": [
    "df_train.loc[df_train['inc_angle'] == 'na', 'inc_angle'] = 0"
   ]
  },
  {
   "cell_type": "markdown",
   "metadata": {},
   "source": [
    "## K-Folds cross-validation for C"
   ]
  },
  {
   "cell_type": "code",
   "execution_count": 10,
   "metadata": {},
   "outputs": [
    {
     "name": "stdout",
     "output_type": "stream",
     "text": [
      "[1e-05, 1.5000000000000002e-05, 2.25e-05, 3.375e-05, 5.0625000000000004e-05, 7.593750000000001e-05, 0.00011390625000000001]\n"
     ]
    }
   ],
   "source": [
    "# K-Folds parameters\n",
    "K = 10\n",
    "kfolds = sklearn.model_selection.KFold(n_splits = K)\n",
    "Cs = [1e-5*(1.5**i) for i in range(7)]\n",
    "errors = [0 for i in range(len(Cs))]\n",
    "\n",
    "print(Cs)\n",
    "\n",
    "\n",
    "# Mini-batch parameters\n",
    "num_passes = 25\n",
    "batch_size = 500"
   ]
  },
  {
   "cell_type": "code",
   "execution_count": 15,
   "metadata": {},
   "outputs": [
    {
     "name": "stdout",
     "output_type": "stream",
     "text": [
      "i =  0 / 7 \t\tC =  1e-05\n",
      "dt =  3.9859612782796225e-05\n",
      "\tj =  0 / 10\n",
      "\t\tk =  0 / 25\n",
      "\t\t\tl =  0 / 3\n",
      "\t\t\tl =  1 / 3\n",
      "\t\t\tl =  2 / 3\n",
      "\t\tk =  1 / 25\n",
      "\t\t\tl =  0 / 3\n",
      "\t\t\tl =  1 / 3\n",
      "\t\t\tl =  2 / 3\n",
      "\t\tk =  2 / 25\n",
      "\t\t\tl =  0 / 3\n",
      "\t\t\tl =  1 / 3\n",
      "\t\t\tl =  2 / 3\n",
      "\t\tk =  3 / 25\n",
      "\t\t\tl =  0 / 3\n",
      "\t\t\tl =  1 / 3\n",
      "\t\t\tl =  2 / 3\n",
      "\t\tk =  4 / 25\n",
      "\t\t\tl =  0 / 3\n",
      "\t\t\tl =  1 / 3\n",
      "\t\t\tl =  2 / 3\n",
      "\t\tk =  5 / 25\n",
      "\t\t\tl =  0 / 3\n",
      "\t\t\tl =  1 / 3\n",
      "\t\t\tl =  2 / 3\n",
      "\t\tk =  6 / 25\n",
      "\t\t\tl =  0 / 3\n",
      "\t\t\tl =  1 / 3\n",
      "\t\t\tl =  2 / 3\n",
      "\t\tk =  7 / 25\n",
      "\t\t\tl =  0 / 3\n",
      "\t\t\tl =  1 / 3\n",
      "\t\t\tl =  2 / 3\n",
      "\t\tk =  8 / 25\n",
      "\t\t\tl =  0 / 3\n",
      "\t\t\tl =  1 / 3\n",
      "\t\t\tl =  2 / 3\n",
      "\t\tk =  9 / 25\n",
      "\t\t\tl =  0 / 3\n",
      "\t\t\tl =  1 / 3\n",
      "\t\t\tl =  2 / 3\n",
      "\t\tk =  10 / 25\n",
      "\t\t\tl =  0 / 3\n",
      "\t\t\tl =  1 / 3\n",
      "\t\t\tl =  2 / 3\n",
      "\t\tk =  11 / 25\n",
      "\t\t\tl =  0 / 3\n",
      "\t\t\tl =  1 / 3\n",
      "\t\t\tl =  2 / 3\n",
      "\t\tk =  12 / 25\n",
      "\t\t\tl =  0 / 3\n",
      "\t\t\tl =  1 / 3\n",
      "\t\t\tl =  2 / 3\n",
      "\t\tk =  13 / 25\n",
      "\t\t\tl =  0 / 3\n",
      "\t\t\tl =  1 / 3\n",
      "\t\t\tl =  2 / 3\n",
      "\t\tk =  14 / 25\n",
      "\t\t\tl =  0 / 3\n",
      "\t\t\tl =  1 / 3\n",
      "\t\t\tl =  2 / 3\n",
      "\t\tk =  15 / 25\n",
      "\t\t\tl =  0 / 3\n",
      "\t\t\tl =  1 / 3\n",
      "\t\t\tl =  2 / 3\n",
      "\t\tk =  16 / 25\n",
      "\t\t\tl =  0 / 3\n",
      "\t\t\tl =  1 / 3\n",
      "\t\t\tl =  2 / 3\n",
      "\t\tk =  17 / 25\n",
      "\t\t\tl =  0 / 3\n",
      "\t\t\tl =  1 / 3\n",
      "\t\t\tl =  2 / 3\n",
      "\t\tk =  18 / 25\n",
      "\t\t\tl =  0 / 3\n",
      "\t\t\tl =  1 / 3\n",
      "\t\t\tl =  2 / 3\n",
      "\t\tk =  19 / 25\n",
      "\t\t\tl =  0 / 3\n",
      "\t\t\tl =  1 / 3\n",
      "\t\t\tl =  2 / 3\n",
      "\t\tk =  20 / 25\n",
      "\t\t\tl =  0 / 3\n",
      "\t\t\tl =  1 / 3\n",
      "\t\t\tl =  2 / 3\n",
      "\t\tk =  21 / 25\n",
      "\t\t\tl =  0 / 3\n",
      "\t\t\tl =  1 / 3\n",
      "\t\t\tl =  2 / 3\n",
      "\t\tk =  22 / 25\n",
      "\t\t\tl =  0 / 3\n",
      "\t\t\tl =  1 / 3\n",
      "\t\t\tl =  2 / 3\n",
      "\t\tk =  23 / 25\n",
      "\t\t\tl =  0 / 3\n",
      "\t\t\tl =  1 / 3\n",
      "\t\t\tl =  2 / 3\n",
      "\t\tk =  24 / 25\n",
      "\t\t\tl =  0 / 3\n",
      "\t\t\tl =  1 / 3\n",
      "\t\t\tl =  2 / 3\n"
     ]
    },
    {
     "name": "stderr",
     "output_type": "stream",
     "text": [
      "../modules/functions.py:21: VisibleDeprecationWarning: boolean index did not match indexed array along dimension 0; dimension is 161 but corresponding boolean dimension is 1604\n",
      "  return -(np.sum(np.log(predicted[actual == 1])) + np.sum(np.log(1-predicted[actual == 0])))/len(actual)\n"
     ]
    },
    {
     "ename": "IndexError",
     "evalue": "index 161 is out of bounds for axis 0 with size 161",
     "output_type": "error",
     "traceback": [
      "\u001b[0;31m---------------------------------------------------------------------------\u001b[0m",
      "\u001b[0;31mIndexError\u001b[0m                                Traceback (most recent call last)",
      "\u001b[0;32m<ipython-input-15-237d00d1eff6>\u001b[0m in \u001b[0;36m<module>\u001b[0;34m()\u001b[0m\n\u001b[1;32m     59\u001b[0m \u001b[0;34m\u001b[0m\u001b[0m\n\u001b[1;32m     60\u001b[0m         \u001b[0;31m# Get errors\u001b[0m\u001b[0;34m\u001b[0m\u001b[0;34m\u001b[0m\u001b[0m\n\u001b[0;32m---> 61\u001b[0;31m         \u001b[0merrors\u001b[0m\u001b[0;34m[\u001b[0m\u001b[0mi\u001b[0m\u001b[0;34m]\u001b[0m \u001b[0;34m+=\u001b[0m \u001b[0mfunctions\u001b[0m\u001b[0;34m.\u001b[0m\u001b[0mLogLoss\u001b[0m\u001b[0;34m(\u001b[0m\u001b[0mpredictions\u001b[0m\u001b[0;34m,\u001b[0m \u001b[0mdf_train\u001b[0m\u001b[0;34m[\u001b[0m\u001b[0mconstants\u001b[0m\u001b[0;34m.\u001b[0m\u001b[0moutput\u001b[0m\u001b[0;34m]\u001b[0m\u001b[0;34m)\u001b[0m\u001b[0;34m/\u001b[0m\u001b[0mK\u001b[0m\u001b[0;34m\u001b[0m\u001b[0m\n\u001b[0m\u001b[1;32m     62\u001b[0m \u001b[0;34m\u001b[0m\u001b[0m\n\u001b[1;32m     63\u001b[0m \u001b[0;34m\u001b[0m\u001b[0m\n",
      "\u001b[0;32m/home/prestonh/Desktop/Programming/datasci/projects/iceberg-ship/modules/functions.py\u001b[0m in \u001b[0;36mLogLoss\u001b[0;34m(predicted, actual)\u001b[0m\n\u001b[1;32m     19\u001b[0m     '''\n\u001b[1;32m     20\u001b[0m \u001b[0;34m\u001b[0m\u001b[0m\n\u001b[0;32m---> 21\u001b[0;31m     \u001b[0;32mreturn\u001b[0m \u001b[0;34m-\u001b[0m\u001b[0;34m(\u001b[0m\u001b[0mnp\u001b[0m\u001b[0;34m.\u001b[0m\u001b[0msum\u001b[0m\u001b[0;34m(\u001b[0m\u001b[0mnp\u001b[0m\u001b[0;34m.\u001b[0m\u001b[0mlog\u001b[0m\u001b[0;34m(\u001b[0m\u001b[0mpredicted\u001b[0m\u001b[0;34m[\u001b[0m\u001b[0mactual\u001b[0m \u001b[0;34m==\u001b[0m \u001b[0;36m1\u001b[0m\u001b[0;34m]\u001b[0m\u001b[0;34m)\u001b[0m\u001b[0;34m)\u001b[0m \u001b[0;34m+\u001b[0m \u001b[0mnp\u001b[0m\u001b[0;34m.\u001b[0m\u001b[0msum\u001b[0m\u001b[0;34m(\u001b[0m\u001b[0mnp\u001b[0m\u001b[0;34m.\u001b[0m\u001b[0mlog\u001b[0m\u001b[0;34m(\u001b[0m\u001b[0;36m1\u001b[0m\u001b[0;34m-\u001b[0m\u001b[0mpredicted\u001b[0m\u001b[0;34m[\u001b[0m\u001b[0mactual\u001b[0m \u001b[0;34m==\u001b[0m \u001b[0;36m0\u001b[0m\u001b[0;34m]\u001b[0m\u001b[0;34m)\u001b[0m\u001b[0;34m)\u001b[0m\u001b[0;34m)\u001b[0m\u001b[0;34m/\u001b[0m\u001b[0mlen\u001b[0m\u001b[0;34m(\u001b[0m\u001b[0mactual\u001b[0m\u001b[0;34m)\u001b[0m\u001b[0;34m\u001b[0m\u001b[0m\n\u001b[0m\u001b[1;32m     22\u001b[0m \u001b[0;34m\u001b[0m\u001b[0m\n\u001b[1;32m     23\u001b[0m \u001b[0;34m\u001b[0m\u001b[0m\n",
      "\u001b[0;31mIndexError\u001b[0m: index 161 is out of bounds for axis 0 with size 161"
     ]
    }
   ],
   "source": [
    "t0 = time.time()\n",
    "\n",
    "\n",
    "# Hyper parameter loop\n",
    "for i, C in enumerate(Cs):\n",
    "    \n",
    "    \n",
    "    '''\n",
    "    Benchmarking\n",
    "    '''\n",
    "    IPython.display.clear_output()\n",
    "    \n",
    "    t = time.time()\n",
    "    print('i = ', str(i), '/', str(len(Cs)), '\\t\\tC = ', C)\n",
    "    print('dt = ', str((t - t0)/60.))\n",
    "    \n",
    "    \n",
    "    \n",
    "    \n",
    "    # K-folds loop\n",
    "    for j, (train_indices, valid_indices) in enumerate(kfolds.split(np.empty((N_train_all)))):\n",
    "        print('\\tj = ', str(j), '/', K)\n",
    "    \n",
    "    \n",
    "        # Create the model trained on this fold\n",
    "        model = sklearn.linear_model.SGDClassifier(loss= 'log', alpha = 1./C)\n",
    "    \n",
    "                                                     \n",
    "                                                     \n",
    "        # Mini-batch loop\n",
    "        for k in range(num_passes):\n",
    "            print('\\t\\tk = ', str(k), '/', num_passes)\n",
    "                                                     \n",
    "            np.random.shuffle(train_indices)\n",
    "            \n",
    "            for l in range(int(len(train_indices)/batch_size + 1)):\n",
    "                print('\\t\\t\\tl = ', str(l), '/', str(int(len(train_indices)/batch_size + 1)))\n",
    "\n",
    "                # Get batch indices\n",
    "                if l == int(len(train_indices)/batch_size+1):\n",
    "                    # Last batch\n",
    "                    batch_train_indices = train_indices[l*batch_size:]\n",
    "                else:\n",
    "                    # Not last batch\n",
    "                    batch_train_indices = train_indices[l*batch_size:(l+1)*batch_size]\n",
    "                                                     \n",
    "                                \n",
    "\n",
    "                # Fit model\n",
    "                model.partial_fit(df_train[constants.inputs].iloc[batch_train_indices], df_train[constants.output].iloc[batch_train_indices], classes = [0, 1])\n",
    "                                                     \n",
    "                                                     \n",
    "                                                     \n",
    "\n",
    "                                                                       \n",
    "        \n",
    "        # Test model\n",
    "        predictions = model.predict_proba(df_train[constants.inputs].iloc[valid_indices])\n",
    "\n",
    "        # Get errors\n",
    "        errors[i] += functions.LogLoss(predictions, df_train[constants.output])/K\n",
    "        \n",
    "\n",
    "    print(Cs[i], errors[i])\n",
    "                                                     \n",
    "\n",
    "                                                     \n",
    "        \n",
    "        \n",
    "        \n",
    "        "
   ]
  },
  {
   "cell_type": "code",
   "execution_count": 12,
   "metadata": {},
   "outputs": [
    {
     "data": {
      "image/png": "[encoded data removed]",
      "text/plain": [
       "<matplotlib.figure.Figure at 0x7f496c97dc50>"
      ]
     },
     "metadata": {},
     "output_type": "display_data"
    }
   ],
   "source": [
    "plt.semilogx(Cs, errors, marker = 'o')\n",
    "plt.xlabel('C')\n",
    "plt.ylabel('Log loss')\n",
    "plt.grid()\n",
    "plt.show()"
   ]
  },
  {
   "cell_type": "code",
   "execution_count": 13,
   "metadata": {},
   "outputs": [
    {
     "name": "stdout",
     "output_type": "stream",
     "text": [
      "[0, 0, 0, 0, 0, 0, 0]\n"
     ]
    }
   ],
   "source": [
    "print(errors)"
   ]
  },
  {
   "cell_type": "code",
   "execution_count": 14,
   "metadata": {},
   "outputs": [
    {
     "name": "stdout",
     "output_type": "stream",
     "text": [
      "[1e-05, 1.5000000000000002e-05, 2.25e-05, 3.375e-05, 5.0625000000000004e-05, 7.593750000000001e-05, 0.00011390625000000001]\n"
     ]
    }
   ],
   "source": [
    "print(Cs)"
   ]
  },
  {
   "cell_type": "code",
   "execution_count": null,
   "metadata": {
    "collapsed": true
   },
   "outputs": [],
   "source": [
    "for i in range(len(Cs)):\n",
    "    print(Cs[i], '\\t\\t', errors[i])"
   ]
  },
  {
   "cell_type": "markdown",
   "metadata": {},
   "source": [
    "## Make predictions"
   ]
  },
  {
   "cell_type": "code",
   "execution_count": null,
   "metadata": {
    "collapsed": true
   },
   "outputs": [],
   "source": [
    "df_train = functions.LoadTrainData(aug = False, mix = True)\n",
    "N_train_all = len(df_train)\n",
    "\n",
    "\n"
   ]
  },
  {
   "cell_type": "code",
   "execution_count": null,
   "metadata": {
    "collapsed": true
   },
   "outputs": [],
   "source": [
    "df_train.loc[df_train['inc_angle'] == 'na', 'inc_angle'] = 0"
   ]
  },
  {
   "cell_type": "markdown",
   "metadata": {},
   "source": [
    "##### Train model"
   ]
  },
  {
   "cell_type": "code",
   "execution_count": null,
   "metadata": {
    "collapsed": true
   },
   "outputs": [],
   "source": [
    "num_passes = 20\n",
    "batch_size = 500"
   ]
  },
  {
   "cell_type": "code",
   "execution_count": null,
   "metadata": {
    "collapsed": true,
    "scrolled": false
   },
   "outputs": [],
   "source": [
    "t0 = time.time()\n",
    "\n",
    "C = 7.6e-5\n",
    "\n",
    "\n",
    "\n",
    "train_indices = [i for i in range(N_train_all)]\n",
    "\n",
    "\n",
    "# Create the model trained on this fold\n",
    "model = sklearn.linear_model.SGDClassifier(loss= 'log', alpha = 1./C, n_jobs = -1)\n",
    "\n",
    "\n",
    "# Mini-batch loop\n",
    "for i in range(num_passes):\n",
    "    print('i = ', str(i), '/', num_passes)\n",
    "\n",
    "    np.random.shuffle(train_indices)\n",
    "\n",
    "    for j in range(int(len(train_indices)/batch_size + 1)):\n",
    "        print('\\tj = ', str(j), '/', str(int(len(train_indices)/batch_size + 1)))\n",
    "\n",
    "        # Get batch indices\n",
    "        if j == int(len(train_indices)/batch_size+1):\n",
    "            # Last batch\n",
    "            batch_train_indices = train_indices[j*batch_size:]\n",
    "        else:\n",
    "            # Not last batch\n",
    "            batch_train_indices = train_indices[j*batch_size:(j+1)*batch_size]\n",
    "\n",
    "\n",
    "\n",
    "        # Load in the training data for this particular batch\n",
    "        #df_train = pd.read_csv(train_file_path, skiprows = [row + 1 for row in range(N_train_all) if row not in batch_train_indices], sep = ',', header = 0)\n",
    "\n",
    "        # Fit model\n",
    "        model.partial_fit(df_train[constants.inputs].iloc[train_indices], df_train[constants.output].iloc[train_indices], classes = [0, 1])"
   ]
  },
  {
   "cell_type": "markdown",
   "metadata": {},
   "source": [
    "##### Make predictions"
   ]
  },
  {
   "cell_type": "code",
   "execution_count": null,
   "metadata": {
    "collapsed": true
   },
   "outputs": [],
   "source": [
    "df_test = pd.read_csv(test_file_path, header = 0, sep = ',', index_col = 'id')\n",
    "\n",
    "predictions = model.predict_proba(df_test[constants.inputs])[:,1]"
   ]
  },
  {
   "cell_type": "code",
   "execution_count": null,
   "metadata": {
    "collapsed": true
   },
   "outputs": [],
   "source": [
    "df_train[constants.inputs].head()"
   ]
  },
  {
   "cell_type": "code",
   "execution_count": null,
   "metadata": {
    "collapsed": true
   },
   "outputs": [],
   "source": [
    "df_test[constants.inputs].head()"
   ]
  },
  {
   "cell_type": "markdown",
   "metadata": {},
   "source": [
    "## Write to file"
   ]
  },
  {
   "cell_type": "code",
   "execution_count": null,
   "metadata": {
    "collapsed": true
   },
   "outputs": [],
   "source": [
    "output_file_path = '../data/submissions/submission_' + str(datetime.datetime.now().date()) + '_' + str(datetime.datetime.now().time()).replace(':', '-').split('.')[0]\n",
    "\n",
    "with open(output_file_path, 'w') as output_file_handle:\n",
    "    file_writer = csv.writer(output_file_handle, delimiter = ',')\n",
    "    \n",
    "    file_writer.writerow(['id', 'is_iceberg'])\n",
    "    \n",
    "    for i in range(len(predictions)):\n",
    "        file_writer.writerow([df_test.index.values[i], predictions[i]])\n",
    "        "
   ]
  },
  {
   "cell_type": "code",
   "execution_count": null,
   "metadata": {
    "collapsed": true
   },
   "outputs": [],
   "source": []
  }
 ],
 "metadata": {
  "kernelspec": {
   "display_name": "Python 3",
   "language": "python",
   "name": "python3"
  },
  "language_info": {
   "codemirror_mode": {
    "name": "ipython",
    "version": 3
   },
   "file_extension": ".py",
   "mimetype": "text/x-python",
   "name": "python",
   "nbconvert_exporter": "python",
   "pygments_lexer": "ipython3",
   "version": "3.6.1"
  }
 },
 "nbformat": 4,
 "nbformat_minor": 2
}
