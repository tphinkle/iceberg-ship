{
 "cells": [
  {
   "cell_type": "markdown",
   "metadata": {
    "_cell_guid": "915d88d9-1a5b-41d9-9ea0-763cedf8db48",
    "_uuid": "4e0fa3a3964850988c89e172ca6ba5e4be80d40f"
   },
   "source": [
    "This Kernal implements a Keras + Tensorflow CNN for the StatOil Iceberg competition. It has yielded results of 0.1995 on the leaderboard. With some tuning and image filtering plus more of an inclusion of the incident angle, a better result could be yielded I'm sure.\n",
    "\n",
    "The input is a 75x75x3 set of images. The output is a binary 0/1 where 1 is noteed as an iceberg. \n",
    "\n",
    "The set of images are band_1 (HH), band_2 (HV), and an combined band which would be (HH dot HV)/constant. However, since we are working with the images in dB, the 3rd band is modified to compenate for the log function yielding band_1 + band_2 -log(constant). The last term is neglected as when the images are scaled the 3rd term would be removed by the mathematics anyway.\n",
    "\n",
    "This and other information can be found from: https://earth.esa.int/c/document_library/get_file?folderId=409229&name=DLFE-5566.pdf"
   ]
  },
  {
   "cell_type": "markdown",
   "metadata": {
    "_cell_guid": "ce14c127-f1eb-4d97-af69-22a9c41ce849",
    "_uuid": "531934471292c4b37a91052d26a4dc5b9fb8060c"
   },
   "source": [
    "## Imports"
   ]
  },
  {
   "cell_type": "code",
   "execution_count": null,
   "metadata": {
    "_cell_guid": "87067cf4-737b-4386-9829-96a1904e008a",
    "_uuid": "58c5516a1c1be0da718d3a07e0a8a4c87bca05bb",
    "collapsed": true
   },
   "outputs": [],
   "source": [
    "import pandas as pd \n",
    "import numpy as np \n",
    "import cv2 # Used to manipulated the images \n",
    "np.random.seed(1337) # The seed I used - pick your own or comment out for a random seed. A constant seed allows for better comparisons though\n",
    "\n",
    "# Import Keras \n",
    "from keras.models import Sequential\n",
    "from keras.layers import Dense, Dropout, Flatten, Activation\n",
    "from keras.layers import Conv2D, MaxPooling2D\n",
    "from keras.callbacks import EarlyStopping, ModelCheckpoint, ReduceLROnPlateau\n",
    "from keras.layers.normalization import BatchNormalization\n",
    "from keras.optimizers import Adam"
   ]
  },
  {
   "cell_type": "markdown",
   "metadata": {
    "_cell_guid": "f2122c8f-c128-4250-8eb0-a2e3d47f5c40",
    "_uuid": "1b660b997eb5346206328cfff44a8087625f9e77"
   },
   "source": [
    "## Load Training Data"
   ]
  },
  {
   "cell_type": "code",
   "execution_count": null,
   "metadata": {
    "_cell_guid": "67ced598-4f32-46a8-8fc9-3c111ff5d7a5",
    "_uuid": "eb01899991a9f18343d44e73de81ae0a98eef9d9",
    "collapsed": true,
    "scrolled": true
   },
   "outputs": [],
   "source": [
    "df_train = pd.read_json('../input/train.json') # this is a dataframe"
   ]
  },
  {
   "cell_type": "markdown",
   "metadata": {
    "_cell_guid": "4f97c064-5b5a-4f1a-a93c-ebf563abfeae",
    "_uuid": "274ed29922ef87b194c16c57a6991107512abd00"
   },
   "source": [
    "Need to reshape and feature scale the images:"
   ]
  },
  {
   "cell_type": "code",
   "execution_count": null,
   "metadata": {
    "_cell_guid": "63deb10a-3d65-4034-90ad-fc3a75d59038",
    "_uuid": "4c53a99f76f2aca3bf5e6eff27b2c2e0a59730b3",
    "collapsed": true
   },
   "outputs": [],
   "source": [
    "def get_scaled_imgs(df):\n",
    "    imgs = []\n",
    "    \n",
    "    for i, row in df.iterrows():\n",
    "        #make 75x75 image\n",
    "        band_1 = np.array(row['band_1']).reshape(75, 75)\n",
    "        band_2 = np.array(row['band_2']).reshape(75, 75)\n",
    "        band_3 = band_1 + band_2 # plus since log(x*y) = log(x) + log(y)\n",
    "        \n",
    "        # Rescale\n",
    "        a = (band_1 - band_1.mean()) / (band_1.max() - band_1.min())\n",
    "        b = (band_2 - band_2.mean()) / (band_2.max() - band_2.min())\n",
    "        c = (band_3 - band_3.mean()) / (band_3.max() - band_3.min())\n",
    "\n",
    "        imgs.append(np.dstack((a, b, c)))\n",
    "\n",
    "    return np.array(imgs)"
   ]
  },
  {
   "cell_type": "code",
   "execution_count": null,
   "metadata": {
    "_cell_guid": "c58c6f86-faa4-403f-89f4-508d62e04f2e",
    "_uuid": "8139789a571a82b5210e22cced66fa15ad0aaa9f",
    "collapsed": true
   },
   "outputs": [],
   "source": [
    "Xtrain = get_scaled_imgs(df_train)"
   ]
  },
  {
   "cell_type": "markdown",
   "metadata": {
    "_cell_guid": "9254875f-9d69-4d7f-8bc6-ab0c480ad325",
    "_uuid": "28d236014c85818ce097a95ab612eb2bbbc2d427"
   },
   "source": [
    "Get the response variable \"is_iceberg\""
   ]
  },
  {
   "cell_type": "code",
   "execution_count": null,
   "metadata": {
    "_cell_guid": "bf8e20dd-1b59-46c1-af87-33e39caea434",
    "_uuid": "8cfd9dda5e4eb09ecb5d302881cb45927ae49e1e",
    "collapsed": true
   },
   "outputs": [],
   "source": [
    "Ytrain = np.array(df_train['is_iceberg'])"
   ]
  },
  {
   "cell_type": "markdown",
   "metadata": {
    "_cell_guid": "6f70b05a-9172-445b-965b-41ddfdd242bf",
    "_uuid": "9d372ee98c96ff1a579ff47725771bde95d50de4"
   },
   "source": [
    "Some of the incident angle from the satellite are unknown and marked as \"na\". Replace these na with 0 and find the indices where the incident angle is >0 (this way you can use a truncated set or the full set of training data)."
   ]
  },
  {
   "cell_type": "code",
   "execution_count": null,
   "metadata": {
    "_cell_guid": "88e2daa3-d56b-48ae-8b34-2c7f1cabd1f9",
    "_uuid": "b86fde8c88e1443a1d9b73a6db4db69f05cf01cc",
    "collapsed": true
   },
   "outputs": [],
   "source": [
    "df_train.inc_angle = df_train.inc_angle.replace('na',0)\n",
    "idx_tr = np.where(df_train.inc_angle>0)"
   ]
  },
  {
   "cell_type": "markdown",
   "metadata": {
    "_cell_guid": "31c5e3e9-835b-4e7f-a8a0-8aff095e8119",
    "_uuid": "73df5a48e4e2fe25b6ac730431884309340d3f91"
   },
   "source": [
    "You can now use the option of training with only known incident angles or the whole set. I found slightly better results training with only the known incident angles so:"
   ]
  },
  {
   "cell_type": "code",
   "execution_count": null,
   "metadata": {
    "_cell_guid": "dd675d7f-6e09-464e-8ff7-802ea6ccae65",
    "_uuid": "42d3a636875352e24a39e6bf262171a5d800e440",
    "collapsed": true
   },
   "outputs": [],
   "source": [
    "Ytrain = Ytrain[idx_tr[0]]\n",
    "Xtrain = Xtrain[idx_tr[0],...]"
   ]
  },
  {
   "cell_type": "markdown",
   "metadata": {
    "_cell_guid": "2225523f-4d88-40c7-98a6-91909b1b4305",
    "_uuid": "a64a52520973ad3a524946195c3e0b0eef66409a"
   },
   "source": [
    "## Adding images for training"
   ]
  },
  {
   "cell_type": "markdown",
   "metadata": {
    "_cell_guid": "044d2246-124f-4f1d-aafc-1d52a1c1c485",
    "_uuid": "8e96ff129e44dc23a682e86475afecc596126ac2"
   },
   "source": [
    "Now, the biggest improvement I had was by adding more data to train on. I did this by simply including horizontally and vertically flipped data. Using OpenCV this is easily done."
   ]
  },
  {
   "cell_type": "code",
   "execution_count": null,
   "metadata": {
    "_cell_guid": "e1fc05ba-2557-4e01-84a7-31651c75a7ef",
    "_uuid": "4cfe3fc2036e723b532996cd9905d784b78149d4",
    "collapsed": true
   },
   "outputs": [],
   "source": [
    "def get_more_images(imgs):\n",
    "    \n",
    "    more_images = []\n",
    "    vert_flip_imgs = []\n",
    "    hori_flip_imgs = []\n",
    "      \n",
    "    for i in range(0,imgs.shape[0]):\n",
    "        a=imgs[i,:,:,0]\n",
    "        b=imgs[i,:,:,1]\n",
    "        c=imgs[i,:,:,2]\n",
    "        \n",
    "        av=cv2.flip(a,1)\n",
    "        ah=cv2.flip(a,0)\n",
    "        bv=cv2.flip(b,1)\n",
    "        bh=cv2.flip(b,0)\n",
    "        cv=cv2.flip(c,1)\n",
    "        ch=cv2.flip(c,0)\n",
    "        \n",
    "        vert_flip_imgs.append(np.dstack((av, bv, cv)))\n",
    "        hori_flip_imgs.append(np.dstack((ah, bh, ch)))\n",
    "      \n",
    "    v = np.array(vert_flip_imgs)\n",
    "    h = np.array(hori_flip_imgs)\n",
    "       \n",
    "    more_images = np.concatenate((imgs,v,h))\n",
    "    \n",
    "    return more_images\n"
   ]
  },
  {
   "cell_type": "markdown",
   "metadata": {
    "_cell_guid": "38778d37-4b83-48a7-8bc6-689e3dba8d19",
    "_uuid": "a6e8250d02d6a70ebe4bd84ea41486e9fce8cbdd"
   },
   "source": [
    "I rename the returned value so i have the option of using the original data set or the expanded data set"
   ]
  },
  {
   "cell_type": "code",
   "execution_count": null,
   "metadata": {
    "_cell_guid": "67aa5164-2cbf-4e65-8ad8-a03ef435866a",
    "_uuid": "fe14a2e52a8dc1c485d1d8894773308ab2cac2d1",
    "collapsed": true
   },
   "outputs": [],
   "source": [
    "Xtr_more = get_more_images(Xtrain) "
   ]
  },
  {
   "cell_type": "markdown",
   "metadata": {
    "_cell_guid": "a0d580b9-f194-45ce-937f-67e2fa6257ca",
    "_uuid": "7c826ff6ae9e8013401408ebff49641562db274c"
   },
   "source": [
    "And then define the new response variable:"
   ]
  },
  {
   "cell_type": "code",
   "execution_count": null,
   "metadata": {
    "_cell_guid": "abc6fcd2-a8ca-4876-a116-b3ab2d44b696",
    "_uuid": "439119479f3544f63a38b0f49d87ab67879a0ee2",
    "collapsed": true
   },
   "outputs": [],
   "source": [
    "Ytr_more = np.concatenate((Ytrain,Ytrain,Ytrain))"
   ]
  },
  {
   "cell_type": "markdown",
   "metadata": {
    "_cell_guid": "2bb443e4-1a7a-412c-ac7f-8f56d74a95d2",
    "_uuid": "3a4d41828cd08f1c63760385a11699b333007a4e"
   },
   "source": [
    "## CNN Keras Model"
   ]
  },
  {
   "cell_type": "markdown",
   "metadata": {
    "_cell_guid": "320e27b4-a85e-429d-a449-99c59cc40ad9",
    "_uuid": "da4c3184f113b9fdcb84a45ccc22749d64a84d60"
   },
   "source": [
    "Now the nitty gritty of the situation, the CNN model. This is a simplistic model that should give reasonable results. It is not tuned that well and there are plenty of options and changes you can try so as to improve it. At least you will get the idea:"
   ]
  },
  {
   "cell_type": "code",
   "execution_count": null,
   "metadata": {
    "_cell_guid": "5ce5cef4-3825-436a-99d5-2c861bef631e",
    "_uuid": "83769f47e6223e24f05c4269bb9256d98ccbf898",
    "collapsed": true
   },
   "outputs": [],
   "source": [
    "def getModel():\n",
    "    #Build keras model\n",
    "    \n",
    "    model=Sequential()\n",
    "    \n",
    "    # CNN 1\n",
    "    model.add(Conv2D(64, kernel_size=(3, 3),activation='relu', input_shape=(75, 75, 3)))\n",
    "    model.add(MaxPooling2D(pool_size=(3, 3), strides=(2, 2)))\n",
    "    model.add(Dropout(0.2))\n",
    "\n",
    "    # CNN 2\n",
    "    model.add(Conv2D(128, kernel_size=(3, 3), activation='relu' ))\n",
    "    model.add(MaxPooling2D(pool_size=(2, 2), strides=(2, 2)))\n",
    "    model.add(Dropout(0.2))\n",
    "\n",
    "    # CNN 3\n",
    "    model.add(Conv2D(128, kernel_size=(3, 3), activation='relu'))\n",
    "    model.add(MaxPooling2D(pool_size=(2, 2), strides=(2, 2)))\n",
    "    model.add(Dropout(0.2))\n",
    "\n",
    "    #CNN 4\n",
    "    model.add(Conv2D(64, kernel_size=(3, 3), activation='relu'))\n",
    "    model.add(MaxPooling2D(pool_size=(2, 2), strides=(2, 2)))\n",
    "    model.add(Dropout(0.2))\n",
    "\n",
    "    # You must flatten the data for the dense layers\n",
    "    model.add(Flatten())\n",
    "\n",
    "    #Dense 1\n",
    "    model.add(Dense(512, activation='relu'))\n",
    "    model.add(Dropout(0.2))\n",
    "\n",
    "    #Dense 2\n",
    "    model.add(Dense(256, activation='relu'))\n",
    "    model.add(Dropout(0.2))\n",
    "\n",
    "    # Output \n",
    "    model.add(Dense(1, activation=\"sigmoid\"))\n",
    "\n",
    "    optimizer = Adam(lr=0.001, decay=0.0)\n",
    "    model.compile(loss='binary_crossentropy', optimizer=optimizer, metrics=['accuracy'])\n",
    "    \n",
    "    return model"
   ]
  },
  {
   "cell_type": "markdown",
   "metadata": {
    "_cell_guid": "0d922702-1e4d-4693-9011-4026f4ebdb02",
    "_uuid": "beb01d91c13797c4255d67891496f82b87e2a94d"
   },
   "source": [
    "Now get the model and get ready to train"
   ]
  },
  {
   "cell_type": "code",
   "execution_count": null,
   "metadata": {
    "_cell_guid": "7959e041-808c-49c3-ba44-17ec13c68b69",
    "_uuid": "5ed46ea3b50c1d750cc41172c033352e4376b0f9",
    "collapsed": true
   },
   "outputs": [],
   "source": [
    "model = getModel()\n",
    "model.summary()\n",
    "\n",
    "batch_size = 32\n",
    "earlyStopping = EarlyStopping(monitor='val_loss', patience=10, verbose=0, mode='min')\n",
    "mcp_save = ModelCheckpoint('.mdl_wts.hdf5', save_best_only=True, monitor='val_loss', mode='min')\n",
    "reduce_lr_loss = ReduceLROnPlateau(monitor='val_loss', factor=0.1, patience=7, verbose=1, epsilon=1e-4, mode='min')"
   ]
  },
  {
   "cell_type": "markdown",
   "metadata": {
    "_cell_guid": "2442586a-18f4-4362-9b50-42511d3d30a0",
    "_uuid": "27507fa9816aab0df4c6511e8598cbb0afa0a37a"
   },
   "source": [
    "Now train the model! (Each epoch ran at about 10s on GPU)"
   ]
  },
  {
   "cell_type": "code",
   "execution_count": null,
   "metadata": {
    "_cell_guid": "a38ed2bf-bc90-4936-8308-d328ca6245d6",
    "_uuid": "b9654ba32915e59a36e5a3dcd8d6bb509aba9452",
    "collapsed": true
   },
   "outputs": [],
   "source": [
    "model.fit(Xtr_more, Ytr_more, batch_size=batch_size, epochs=50, verbose=1, callbacks=[earlyStopping, mcp_save, reduce_lr_loss], validation_split=0.25)"
   ]
  },
  {
   "cell_type": "markdown",
   "metadata": {
    "_cell_guid": "baa4adf4-d482-4b87-8d6f-83d1a8a7eea9",
    "_uuid": "da732fbb6985349797d5a868dd31b87cb83c9728"
   },
   "source": [
    "## Results"
   ]
  },
  {
   "cell_type": "markdown",
   "metadata": {
    "_cell_guid": "77f5f289-1aaa-47dc-83ae-04c905250522",
    "_uuid": "8af3e72033deee275116f38e1e153690e24aa62f"
   },
   "source": [
    "Load the best weights and check the score on the training data."
   ]
  },
  {
   "cell_type": "code",
   "execution_count": null,
   "metadata": {
    "_cell_guid": "12962192-8369-480d-9200-ae1ffa2fe38e",
    "_uuid": "cc7f08e74e0f55c0472ee05ef0b8c414480e522d",
    "collapsed": true
   },
   "outputs": [],
   "source": [
    "model.load_weights(filepath = '.mdl_wts.hdf5')\n",
    "\n",
    "score = model.evaluate(Xtrain, Ytrain, verbose=1)\n",
    "print('Train score:', score[0])\n",
    "print('Train accuracy:', score[1])"
   ]
  },
  {
   "cell_type": "markdown",
   "metadata": {
    "_cell_guid": "c25a3676-f65d-41fd-b830-27be912366c4",
    "_uuid": "809e7d4e49614285cf74e5bd3a0d6fd44b4e2cb3"
   },
   "source": [
    "Now, to make a submission, load the test data and train the model and output a csv file."
   ]
  },
  {
   "cell_type": "code",
   "execution_count": null,
   "metadata": {
    "_cell_guid": "9b18a1d9-e49b-4471-aa76-3a2cfea3961e",
    "_uuid": "fd5d1ecd038b08be9e8be3a0ddca86485d136975",
    "collapsed": true
   },
   "outputs": [],
   "source": [
    "df_test = pd.read_json('../input/test.json')\n",
    "df_test.inc_angle = df_test.inc_angle.replace('na',0)\n",
    "Xtest = (get_scaled_imgs(df_test))\n",
    "pred_test = model.predict(Xtest)\n",
    "\n",
    "submission = pd.DataFrame({'id': df_test[\"id\"], 'is_iceberg': pred_test.reshape((pred_test.shape[0]))})\n",
    "print(submission.head(10))\n",
    "\n",
    "submission.to_csv('submission.csv', index=False)"
   ]
  },
  {
   "cell_type": "markdown",
   "metadata": {
    "_cell_guid": "376fe63a-346b-4b23-bd57-a3132c16657e",
    "_uuid": "e7d3c93b05075583abe96ddcf72a5830a16fc8c2"
   },
   "source": [
    "The best submission with this I received was 0.1995 on the leaderboard. Have a go and see how well you can do!"
   ]
  }
 ],
 "metadata": {
  "kernelspec": {
   "display_name": "Python 3",
   "language": "python",
   "name": "python3"
  },
  "language_info": {
   "codemirror_mode": {
    "name": "ipython",
    "version": 3
   },
   "file_extension": ".py",
   "mimetype": "text/x-python",
   "name": "python",
   "nbconvert_exporter": "python",
   "pygments_lexer": "ipython3",
   "version": "3.6.3"
  }
 },
 "nbformat": 4,
 "nbformat_minor": 1
}
