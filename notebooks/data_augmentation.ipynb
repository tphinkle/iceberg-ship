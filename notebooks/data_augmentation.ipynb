{
 "cells": [
  {
   "cell_type": "markdown",
   "metadata": {},
   "source": [
    "## Imports"
   ]
  },
  {
   "cell_type": "code",
   "execution_count": 1,
   "metadata": {
    "collapsed": true
   },
   "outputs": [],
   "source": [
    "# Python standard library\n",
    "import csv\n",
    "import json\n",
    "import datetime\n",
    "import sys\n",
    "\n",
    "# Scipy\n",
    "import numpy as np\n",
    "import sklearn.linear_model\n",
    "import sklearn.model_selection\n",
    "import pandas as pd\n",
    "\n",
    "import matplotlib.pyplot as plt\n",
    "\n",
    "# Jupyter\n",
    "import IPython.display\n",
    "\n",
    "# Program-specific\n",
    "sys.path.append('..')\n",
    "import constants\n",
    "import functions"
   ]
  },
  {
   "cell_type": "markdown",
   "metadata": {},
   "source": [
    "## Test rotations/reflections"
   ]
  },
  {
   "cell_type": "code",
   "execution_count": null,
   "metadata": {},
   "outputs": [],
   "source": [
    "test = np.zeros((5,5))\n",
    "\n",
    "test[:,2] = 1\n",
    "test[0,3] = 1\n",
    "\n",
    "plt.imshow(test, cmap = 'gray', origin = 'lower')\n",
    "plt.show()\n",
    "\n",
    "\n",
    "\n",
    "# Rotations\n",
    "print('rotations')\n",
    "for i in range(1,4):\n",
    "    plt.imshow(np.rot90(test, i), cmap = 'gray', origin = 'lower')\n",
    "    plt.show()\n",
    "\n",
    "    \n",
    "    \n",
    "# Reflections\n",
    "print('reflections')\n",
    "plt.imshow(np.flip(test, 0), cmap = 'gray', origin = 'lower')\n",
    "plt.show()\n",
    "\n",
    "plt.imshow(np.flip(test, 1), cmap = 'gray', origin = 'lower')\n",
    "plt.show()\n",
    "\n",
    "# Rot/reflec\n",
    "print('rotation/reflection')\n",
    "plt.imshow(np.flip(np.rot90(test,1), axis = 0), cmap = 'gray', origin = 'lower')\n",
    "plt.show()\n",
    "\n",
    "plt.imshow(np.flip(np.rot90(test,3), axis = 0), cmap = 'gray', origin = 'lower')\n",
    "plt.show()\n",
    "\n"
   ]
  },
  {
   "cell_type": "markdown",
   "metadata": {},
   "source": [
    "## Load data set"
   ]
  },
  {
   "cell_type": "code",
   "execution_count": null,
   "metadata": {},
   "outputs": [],
   "source": [
    "df_train = functions.LoadTrainData(aug = False)"
   ]
  },
  {
   "cell_type": "markdown",
   "metadata": {},
   "source": [
    "## Augment data"
   ]
  },
  {
   "cell_type": "code",
   "execution_count": null,
   "metadata": {},
   "outputs": [],
   "source": [
    "output_file_path = '../data/train/augmented/train_rotref.csv'\n",
    "with open(output_file_path, 'w') as output_file_handle:\n",
    "    output_file_writer = csv.writer(output_file_handle, delimiter = ',')\n",
    "    \n",
    "    \n",
    "    \n",
    "    output_file_writer.writerow(['id', 'is_iceberg', 'inc_angle'] + ['band_1_' + str(i) for i in range(75*75)] + ['band_2_' + str(i) for i in range(75*75)])\n",
    "\n",
    "    \n",
    "    for i in range(len(df_train)):\n",
    "        \n",
    "        row_data = df_train.iloc[i]\n",
    "\n",
    "        id = row_data['id']\n",
    "        is_iceberg = row_data['is_iceberg']\n",
    "        inc_angle = row_data['inc_angle']\n",
    "        \n",
    "        band_1 = row_data[[column for column in df_train.columns if 'band_1' in column]]\n",
    "        band_2 = row_data[[column for column in df_train.columns if 'band_2' in column]]\n",
    "        \n",
    "        \n",
    "        \n",
    "        # Rotations\n",
    "        for j in range(1,4):\n",
    "            new_id = id + '_rot90-' + str(j)\n",
    "            new_band_1 = np.rot90(band_1.reshape((75,75)), j).flatten()\n",
    "            new_band_2 = np.rot90(band_2.reshape((75,75)), j).flatten()\n",
    "            output_file_writer.writerow([new_id] + [is_iceberg] + [inc_angle] + list(new_band_1) + list(new_band_2))\n",
    "            \n",
    "        # Reflections\n",
    "        new_id = id + '_ref-0'\n",
    "        new_band_1 = np.flip(band_1.reshape((75,75)), 0).flatten()\n",
    "        new_band_2 = np.flip(band_2.reshape((75,75)), 0).flatten()\n",
    "        output_file_writer.writerow([new_id] + [is_iceberg] + [inc_angle] + list(new_band_1) + list(new_band_2))\n",
    "\n",
    "        \n",
    "        new_id = id + '_ref-1'\n",
    "        new_band_1 = np.flip(band_1.reshape((75,75)), 1).flatten()\n",
    "        new_band_2 = np.flip(band_2.reshape((75,75)), 1).flatten()\n",
    "        output_file_writer.writerow([new_id] + [is_iceberg] + [inc_angle] + list(new_band_1) + list(new_band_2))\n",
    "\n",
    "        new_id = id + '_rot90-1_ref-0'\n",
    "        new_band_1 = np.flip(np.rot90(band_1.reshape((75,75)), 1), 0).flatten()\n",
    "        new_band_2 = np.flip(np.rot90(band_2.reshape((75,75)), 1), 0).flatten()\n",
    "        output_file_writer.writerow([new_id] + [is_iceberg] + [inc_angle] + list(new_band_1) + list(new_band_2))\n",
    "        \n",
    "        new_id = id + '_rot90-3_ref-0'\n",
    "        new_band_1 = np.flip(np.rot90(band_1.reshape((75,75)), 3), 0).flatten()\n",
    "        new_band_2 = np.flip(np.rot90(band_2.reshape((75,75)), 3), 0).flatten()\n",
    "        output_file_writer.writerow([new_id] + [is_iceberg] + [inc_angle] + list(new_band_1) + list(new_band_2))\n",
    "        \n",
    "        \n",
    "        \n",
    "            \n",
    "            "
   ]
  },
  {
   "cell_type": "markdown",
   "metadata": {},
   "source": [
    "## Test file"
   ]
  },
  {
   "cell_type": "code",
   "execution_count": null,
   "metadata": {},
   "outputs": [],
   "source": [
    "with open(output_file_path, 'r') as file_handle:\n",
    "    file_reader = csv.reader(file_handle, delimiter = ',')\n",
    "    for i in range(2):\n",
    "        print(next(file_reader))"
   ]
  },
  {
   "cell_type": "markdown",
   "metadata": {
    "collapsed": true
   },
   "source": [
    "## Test augmentations with logistic regression"
   ]
  },
  {
   "cell_type": "code",
   "execution_count": 7,
   "metadata": {},
   "outputs": [
    {
     "name": "stderr",
     "output_type": "stream",
     "text": [
      "/home/prestonh/anaconda3/envs/py36/lib/python3.6/site-packages/IPython/core/interactiveshell.py:2821: DtypeWarning: Columns (2) have mixed types. Specify dtype option on import or set low_memory=False.\n",
      "  if self.run_code(code, result):\n"
     ]
    }
   ],
   "source": [
    "# Non-augmented\n",
    "df = functions.LoadTrainData(aug = False, mix = True)\n",
    "\n",
    "\n",
    "\n",
    "\n",
    "\n",
    "N_train = int(len(df)*0.8)\n",
    "N_test = len(df) - N_train\n",
    "\n",
    "\n",
    "df.loc[df['inc_angle'] == 'na', 'inc_angle'] = 0\n",
    "df['inc_angle'] = df['inc_angle'].apply(pd.to_numeric)\n",
    "\n",
    "\n",
    "\n",
    "inputs = constants.inputs\n",
    "output = constants.output\n",
    "\n",
    "\n",
    "model = sklearn.linear_model.LogisticRegression(C = 1)\n",
    "\n",
    "model.fit(df[inputs][:N_train], df[output][:N_train])\n",
    "print(model.score(df[inputs][N_train:], df[output][N_train:]))"
   ]
  },
  {
   "cell_type": "code",
   "execution_count": 8,
   "metadata": {},
   "outputs": [
    {
     "name": "stdout",
     "output_type": "stream",
     "text": [
      "0.735202492212\n"
     ]
    }
   ],
   "source": [
    "model = sklearn.linear_model.LogisticRegression(C = 1)\n",
    "\n",
    "model.fit(df[inputs][:N_train], df[output][:N_train])\n",
    "print(model.score(df[inputs][N_train:], df[output][N_train:]))"
   ]
  },
  {
   "cell_type": "code",
   "execution_count": 9,
   "metadata": {},
   "outputs": [
    {
     "name": "stderr",
     "output_type": "stream",
     "text": [
      "/home/prestonh/anaconda3/envs/py36/lib/python3.6/site-packages/IPython/core/interactiveshell.py:2821: DtypeWarning: Columns (2) have mixed types. Specify dtype option on import or set low_memory=False.\n",
      "  if self.run_code(code, result):\n"
     ]
    },
    {
     "name": "stdout",
     "output_type": "stream",
     "text": [
      "0.724970783015\n"
     ]
    }
   ],
   "source": [
    "# Non-augmented\n",
    "df = functions.LoadTrainData(aug = True, mix = True)\n",
    "\n",
    "\n",
    "\n",
    "\n",
    "\n",
    "N_train = int(len(df)*0.8)\n",
    "N_test = len(df) - N_train\n",
    "\n",
    "\n",
    "df.loc[df['inc_angle'] == 'na', 'inc_angle'] = 0\n",
    "df['inc_angle'] = df['inc_angle'].apply(pd.to_numeric)\n",
    "\n",
    "\n",
    "\n",
    "inputs = constants.inputs\n",
    "output = constants.output\n",
    "\n",
    "\n",
    "model = sklearn.linear_model.LogisticRegression(C = 1)\n",
    "\n",
    "model.fit(df[inputs][:N_train], df[output][:N_train])\n",
    "print(model.score(df[inputs][N_train:], df[output][N_train:]))"
   ]
  },
  {
   "cell_type": "code",
   "execution_count": null,
   "metadata": {
    "collapsed": true
   },
   "outputs": [],
   "source": []
  }
 ],
 "metadata": {
  "kernelspec": {
   "display_name": "Python 3",
   "language": "python",
   "name": "python3"
  },
  "language_info": {
   "codemirror_mode": {
    "name": "ipython",
    "version": 3
   },
   "file_extension": ".py",
   "mimetype": "text/x-python",
   "name": "python",
   "nbconvert_exporter": "python",
   "pygments_lexer": "ipython3",
   "version": "3.6.1"
  }
 },
 "nbformat": 4,
 "nbformat_minor": 2
}
