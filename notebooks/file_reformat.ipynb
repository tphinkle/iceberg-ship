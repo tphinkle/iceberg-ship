{
 "cells": [
  {
   "cell_type": "markdown",
   "metadata": {},
   "source": [
    "## Imports"
   ]
  },
  {
   "cell_type": "code",
   "execution_count": null,
   "metadata": {},
   "outputs": [],
   "source": [
    "# Python standard library\n",
    "import sys\n",
    "import csv\n",
    "import json\n",
    "\n",
    "# Scipy\n",
    "import numpy as np\n",
    "import matplotlib.pyplot as plt\n",
    "\n",
    "# Program-specific\n",
    "sys.path.append('../modules')\n",
    "import constants\n",
    "import functions\n"
   ]
  },
  {
   "cell_type": "code",
   "execution_count": 2,
   "metadata": {},
   "outputs": [
    {
     "data": {
      "text/plain": [
       "23.0976"
      ]
     },
     "execution_count": 2,
     "metadata": {},
     "output_type": "execute_result"
    }
   ],
   "source": [
    "(12832-(12832/10.))/500."
   ]
  },
  {
   "cell_type": "markdown",
   "metadata": {},
   "source": [
    "## Load data"
   ]
  },
  {
   "cell_type": "code",
   "execution_count": null,
   "metadata": {
    "collapsed": true
   },
   "outputs": [],
   "source": [
    "train_file_path = './data/train/processed/train.json' \n",
    "test_file_path = './data/test/processed/test.json'"
   ]
  },
  {
   "cell_type": "code",
   "execution_count": null,
   "metadata": {
    "collapsed": true
   },
   "outputs": [],
   "source": [
    "with open(train_file_path) as train_file_handle:\n",
    "    train_json = json.load(train_file_handle)"
   ]
  },
  {
   "cell_type": "code",
   "execution_count": null,
   "metadata": {
    "collapsed": true
   },
   "outputs": [],
   "source": [
    "print(len(train_json))\n",
    "print(train_json[0].keys())\n",
    "print(train_json[0]['band_1'])"
   ]
  },
  {
   "cell_type": "code",
   "execution_count": null,
   "metadata": {
    "collapsed": true
   },
   "outputs": [],
   "source": [
    "print(len(train_json[0]['band_1']))\n",
    "print(len(train_json[0]['band_1'])**.5)"
   ]
  },
  {
   "cell_type": "markdown",
   "metadata": {
    "collapsed": true
   },
   "source": [
    "## Re-write data into more useful form"
   ]
  },
  {
   "cell_type": "markdown",
   "metadata": {},
   "source": [
    "##### Train"
   ]
  },
  {
   "cell_type": "code",
   "execution_count": null,
   "metadata": {
    "collapsed": true
   },
   "outputs": [],
   "source": [
    "with open(train_file_path) as train_file_handle:\n",
    "    train_json = json.load(train_file_handle)"
   ]
  },
  {
   "cell_type": "code",
   "execution_count": null,
   "metadata": {
    "collapsed": true
   },
   "outputs": [],
   "source": [
    "output_file_path = train_file_path.replace('.json', '_reformatted.csv')\n",
    "print(output_file_path)"
   ]
  },
  {
   "cell_type": "code",
   "execution_count": null,
   "metadata": {
    "collapsed": true
   },
   "outputs": [],
   "source": [
    "with open(output_file_path, 'w') as output_file_handle:\n",
    "    file_writer = csv.writer(output_file_handle, delimiter = ',')\n",
    "\n",
    "    header = ['id', 'is_iceberg', 'inc_angle'] + ['band_1_' + str(i) for i in range(75*75)] + ['band_2_' + str(i) for i in range(75*75)]\n",
    "\n",
    "    file_writer.writerow(header)\n",
    "    \n",
    "    for sample in train_json:\n",
    "        id = sample['id']\n",
    "        label = sample['is_iceberg']\n",
    "        angle = sample['inc_angle']\n",
    "        data = sample['band_1'] + sample['band_2']\n",
    "        \n",
    "        file_writer.writerow([id] + [label] + [angle] + data)"
   ]
  },
  {
   "cell_type": "markdown",
   "metadata": {},
   "source": [
    "##### Test"
   ]
  },
  {
   "cell_type": "code",
   "execution_count": null,
   "metadata": {
    "collapsed": true
   },
   "outputs": [],
   "source": [
    "with open(test_file_path) as test_file_handle:\n",
    "    test_json = json.load(test_file_handle)"
   ]
  },
  {
   "cell_type": "code",
   "execution_count": null,
   "metadata": {
    "collapsed": true
   },
   "outputs": [],
   "source": [
    "print(test_json[0].keys())"
   ]
  },
  {
   "cell_type": "code",
   "execution_count": null,
   "metadata": {
    "collapsed": true
   },
   "outputs": [],
   "source": [
    "output_file_path = test_file_path.replace('.json', '_reformatted.csv')\n",
    "print(output_file_path)"
   ]
  },
  {
   "cell_type": "code",
   "execution_count": null,
   "metadata": {
    "collapsed": true
   },
   "outputs": [],
   "source": [
    "with open(output_file_path, 'w') as output_file_handle:\n",
    "    file_writer = csv.writer(output_file_handle, delimiter = ',')\n",
    "\n",
    "    header = ['id', 'inc_angle'] + ['band_1_' + str(i) for i in range(75*75)] + ['band_2_' + str(i) for i in range(75*75)]\n",
    "    file_writer.writerow(header)\n",
    "    for sample in test_json:\n",
    "        id = sample['id']\n",
    "        inc_angle = sample['inc_angle']\n",
    "        data = sample['band_1'] + sample['band_2']\n",
    "        \n",
    "        file_writer.writerow([id] + [inc_angle] + data)"
   ]
  },
  {
   "cell_type": "markdown",
   "metadata": {},
   "source": [
    "## Save data to single file\n",
    "- Fill in the missing inc angles and combine the augmented data w/ the plain data"
   ]
  },
  {
   "cell_type": "code",
   "execution_count": null,
   "metadata": {},
   "outputs": [],
   "source": [
    "train_df = functions.LoadTrainData(aug = True, mix = True)\n",
    "\n",
    "\n",
    "missing_file_path = constants.base_file_path + '/data/train/missing_inc_angles.csv'\n",
    "\n",
    "\n",
    "functions.FillMissing(train_df, missing_file_path)"
   ]
  },
  {
   "cell_type": "code",
   "execution_count": null,
   "metadata": {
    "collapsed": true
   },
   "outputs": [],
   "source": [
    "train_df.to_csv('../data/train/train_all_filled.csv', sep = ',')"
   ]
  },
  {
   "cell_type": "code",
   "execution_count": null,
   "metadata": {},
   "outputs": [],
   "source": [
    "# Check file\n",
    "\n",
    "with open('../data/train/train_all_filled.csv', 'r') as file_handle:\n",
    "    header = file_handle.readline()\n",
    "    \n",
    "print(header)"
   ]
  },
  {
   "cell_type": "code",
   "execution_count": null,
   "metadata": {
    "collapsed": true
   },
   "outputs": [],
   "source": []
  }
 ],
 "metadata": {
  "kernelspec": {
   "display_name": "Python 3",
   "language": "python",
   "name": "python3"
  },
  "language_info": {
   "codemirror_mode": {
    "name": "ipython",
    "version": 3
   },
   "file_extension": ".py",
   "mimetype": "text/x-python",
   "name": "python",
   "nbconvert_exporter": "python",
   "pygments_lexer": "ipython3",
   "version": "3.6.1"
  }
 },
 "nbformat": 4,
 "nbformat_minor": 2
}
